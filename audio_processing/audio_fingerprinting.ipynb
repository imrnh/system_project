{
 "cells": [
  {
   "cell_type": "code",
   "execution_count": 4,
   "metadata": {},
   "outputs": [],
   "source": [
    "!pip3 install librosa"
   ]
  },
  {
   "cell_type": "code",
   "execution_count": 3,
   "metadata": {},
   "outputs": [
    {
     "ename": "ModuleNotFoundError",
     "evalue": "No module named 'librosa'",
     "output_type": "error",
     "traceback": [
      "\u001b[1;31m---------------------------------------------------------------------------\u001b[0m",
      "\u001b[1;31mModuleNotFoundError\u001b[0m                       Traceback (most recent call last)",
      "\u001b[1;32mc:\\Users\\muimr\\OneDrive\\Personals\\Documents\\System Project\\audio_processing\\audio_fingerprinting.ipynb Cell 1\u001b[0m line \u001b[0;36m3\n\u001b[0;32m      <a href='vscode-notebook-cell:/c%3A/Users/muimr/OneDrive/Personals/Documents/System%20Project/audio_processing/audio_fingerprinting.ipynb#W0sZmlsZQ%3D%3D?line=0'>1</a>\u001b[0m \u001b[39mimport\u001b[39;00m \u001b[39mnumpy\u001b[39;00m \u001b[39mas\u001b[39;00m \u001b[39mnp\u001b[39;00m\n\u001b[0;32m      <a href='vscode-notebook-cell:/c%3A/Users/muimr/OneDrive/Personals/Documents/System%20Project/audio_processing/audio_fingerprinting.ipynb#W0sZmlsZQ%3D%3D?line=1'>2</a>\u001b[0m \u001b[39mimport\u001b[39;00m \u001b[39mpandas\u001b[39;00m \u001b[39mas\u001b[39;00m \u001b[39mpd\u001b[39;00m\n\u001b[1;32m----> <a href='vscode-notebook-cell:/c%3A/Users/muimr/OneDrive/Personals/Documents/System%20Project/audio_processing/audio_fingerprinting.ipynb#W0sZmlsZQ%3D%3D?line=2'>3</a>\u001b[0m \u001b[39mimport\u001b[39;00m \u001b[39mlibrosa\u001b[39;00m \u001b[39mas\u001b[39;00m \u001b[39mlr\u001b[39;00m\n\u001b[0;32m      <a href='vscode-notebook-cell:/c%3A/Users/muimr/OneDrive/Personals/Documents/System%20Project/audio_processing/audio_fingerprinting.ipynb#W0sZmlsZQ%3D%3D?line=3'>4</a>\u001b[0m \u001b[39mimport\u001b[39;00m \u001b[39mmatplotlib\u001b[39;00m\u001b[39m.\u001b[39;00m\u001b[39mpyplot\u001b[39;00m \u001b[39mas\u001b[39;00m \u001b[39mplt\u001b[39;00m\n\u001b[0;32m      <a href='vscode-notebook-cell:/c%3A/Users/muimr/OneDrive/Personals/Documents/System%20Project/audio_processing/audio_fingerprinting.ipynb#W0sZmlsZQ%3D%3D?line=4'>5</a>\u001b[0m \u001b[39mfrom\u001b[39;00m \u001b[39mtypes\u001b[39;00m \u001b[39mimport\u001b[39;00m SimpleNamespace\n",
      "\u001b[1;31mModuleNotFoundError\u001b[0m: No module named 'librosa'"
     ]
    }
   ],
   "source": [
    "import numpy as np\n",
    "import pandas as pd\n",
    "import librosa as lr\n",
    "import matplotlib.pyplot as plt\n",
    "from types import SimpleNamespace"
   ]
  },
  {
   "cell_type": "markdown",
   "metadata": {},
   "source": [
    "### **Audio Configuration**"
   ]
  },
  {
   "cell_type": "code",
   "execution_count": null,
   "metadata": {},
   "outputs": [],
   "source": [
    "audio_config = SimpleNamespace(\n",
    "    base_path = \"/workspaces/codespaces-blank/assets/audio/\",\n",
    "    sr = 44100,\n",
    "    mono = True,\n",
    ")"
   ]
  },
  {
   "cell_type": "markdown",
   "metadata": {},
   "source": [
    "### **1. Read Audio.**"
   ]
  },
  {
   "cell_type": "code",
   "execution_count": null,
   "metadata": {},
   "outputs": [],
   "source": [
    "def get_audio_contents(path):\n",
    "    audio_content, _ = lr.load(audio_config.base_path + path)\n",
    "    audio_length = len(audio_content) // audio_config.sr\n",
    "    sec_by_sec = []\n",
    "\n",
    "    for sec in range(audio_length):\n",
    "        segment_start_idx = audio_config.sr * sec\n",
    "        segment_end_idx = audio_config.sr * (sec + 1)\n",
    "        sec_by_sec.append(audio_content[segment_start_idx: segment_end_idx])\n",
    "    \n",
    "    return sec_by_sec"
   ]
  },
  {
   "cell_type": "markdown",
   "metadata": {},
   "source": [
    "### **2. Make Spectrogram**"
   ]
  },
  {
   "cell_type": "code",
   "execution_count": null,
   "metadata": {},
   "outputs": [],
   "source": [
    "def make_spectrogram(audio_contents):\n",
    "    sec_by_sec_spectrogram = []\n",
    "    for aud_cnt in audio_contents:\n",
    "        spectrogram_of_ith_sec = lr.stft(aud_cnt)\n",
    "        sec_by_sec_spectrogram.append(spectrogram_of_ith_sec)\n",
    "\n",
    "    return sec_by_sec_spectrogram"
   ]
  },
  {
   "cell_type": "markdown",
   "metadata": {},
   "source": [
    "## **Pipeline**"
   ]
  },
  {
   "cell_type": "code",
   "execution_count": null,
   "metadata": {},
   "outputs": [],
   "source": [
    "class FingerprintPipeline:\n",
    "    def __init__(self, reader_function, spectrogram_genrator_function):\n",
    "        self.audio_configs = audio_config\n",
    "        self.audio_content_reader = reader_function\n",
    "        self.spectrogram_generator = spectrogram_genrator_function\n",
    "        self.__audio_fingerprint = None\n",
    "\n",
    "    def __fingerprint__(self, audio_path):\n",
    "        audio_contents_sec_by_sec = self.audio_content_reader(audio_path)\n",
    "        spectrogram_matrix = self.spectrogram_generator(audio_contents_sec_by_sec)\n",
    "    \n",
    "    def get_fingerprint(self):\n",
    "        return self.__audio_fingerprint"
   ]
  },
  {
   "cell_type": "code",
   "execution_count": null,
   "metadata": {},
   "outputs": [],
   "source": [
    "fingerprint_pipeline = FingerprintPipeline(get_audio_contents, make_spectrogram)"
   ]
  },
  {
   "cell_type": "code",
   "execution_count": null,
   "metadata": {},
   "outputs": [],
   "source": []
  }
 ],
 "metadata": {
  "kernelspec": {
   "display_name": "Python 3",
   "language": "python",
   "name": "python3"
  },
  "language_info": {
   "codemirror_mode": {
    "name": "ipython",
    "version": 3
   },
   "file_extension": ".py",
   "mimetype": "text/x-python",
   "name": "python",
   "nbconvert_exporter": "python",
   "pygments_lexer": "ipython3",
   "version": "3.11.5"
  },
  "orig_nbformat": 4
 },
 "nbformat": 4,
 "nbformat_minor": 2
}
